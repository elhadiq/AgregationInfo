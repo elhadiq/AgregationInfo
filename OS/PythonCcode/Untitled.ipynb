{
 "cells": [
  {
   "cell_type": "code",
   "execution_count": 1,
   "metadata": {},
   "outputs": [
    {
     "name": "stdout",
     "output_type": "stream",
     "text": [
      "hello world\n"
     ]
    }
   ],
   "source": [
    "import main"
   ]
  },
  {
   "cell_type": "code",
   "execution_count": 3,
   "metadata": {},
   "outputs": [
    {
     "name": "stdout",
     "output_type": "stream",
     "text": [
      "main.cpython-38.pyc\r\n"
     ]
    }
   ],
   "source": [
    "ls __pycache__"
   ]
  },
  {
   "cell_type": "code",
   "execution_count": 27,
   "metadata": {},
   "outputs": [
    {
     "name": "stdout",
     "output_type": "stream",
     "text": [
      "          0 <0>\n",
      "    >>    2 UNARY_NOT\n",
      "          4 <0>\n",
      "          6 LOAD_NAME                0 (0)\n",
      "          8 LOAD_CONST               0 (0)\n",
      "         10 CALL_FUNCTION            1\n",
      "         12 POP_TOP\n",
      "         14 LOAD_CONST               1 (1)\n",
      "         16 RETURN_VALUE\n",
      "         18 <41>\n",
      "         20 SETUP_FINALLY           11 (to 33)\n",
      "         22 BUILD_SET              101\n",
      "         24 IMPORT_NAME            108 (108)\n",
      "         26 JUMP_IF_FALSE_OR_POP    32\n",
      "         28 <119>                  111\n",
      "         30 POP_JUMP_IF_FALSE      108\n",
      "    >>   32 LOAD_CONST              78 (78)\n",
      "         34 <41>\n",
      "         36 <218>                    5\n",
      "         38 JUMP_IF_TRUE_OR_POP    114\n",
      "         40 BUILD_MAP              110\n",
      "         42 LOAD_GLOBAL            169 (169)\n",
      "         44 <0>\n",
      "         46 ROT_TWO\n",
      "         48 <0>\n",
      "         50 POP_JUMP_IF_FALSE        2\n",
      "         52 <0>\n",
      "         54 <0>\n",
      "         56 <31>\n",
      "         58 BUILD_SET              111\n",
      "         60 IMPORT_FROM            101 (101)\n",
      "         62 <47>\n",
      "         64 JUMP_IF_FALSE_OR_POP   117\n",
      "         66 BUILD_SET               97\n",
      "         68 BUILD_MAP              114\n",
      "         70 <47>\n",
      "         72 GET_YIELD_FROM_ITER\n",
      "         74 JUMP_IF_TRUE_OR_POP    121\n",
      "         76 IMPORT_FROM             97 (97)\n",
      "         78 BUILD_MAP              110\n",
      "         80 <47>\n",
      "         82 STORE_GLOBAL           105 (105)\n",
      "         84 JUMP_FORWARD            46 (to 132)\n",
      "         86 JUMP_IF_TRUE_OR_POP    121\n",
      "         88 <218>                    8\n",
      "         90 STORE_SUBSCR\n",
      "         92 JUMP_IF_FALSE_OR_POP   100\n",
      "         94 <117>                  108\n",
      "         96 LOAD_NAME               62 (62)\n",
      "         98 POP_TOP\n",
      "    >>  100 <0>\n",
      "        102 <243>                    0\n",
      "        104 <0>\n",
      "        106 <0>\n"
     ]
    }
   ],
   "source": [
    "with open(\"__pycache__/main.cpython-38.pyc\",\"rb\") as f:\n",
    "    f.seek(40)\n",
    "    for l in f.readlines():\n",
    "        dis.dis(l)"
   ]
  }
 ],
 "metadata": {
  "kernelspec": {
   "display_name": "Python 3",
   "language": "python",
   "name": "python3"
  },
  "language_info": {
   "codemirror_mode": {
    "name": "ipython",
    "version": 3
   },
   "file_extension": ".py",
   "mimetype": "text/x-python",
   "name": "python",
   "nbconvert_exporter": "python",
   "pygments_lexer": "ipython3",
   "version": "3.8.5"
  }
 },
 "nbformat": 4,
 "nbformat_minor": 4
}
