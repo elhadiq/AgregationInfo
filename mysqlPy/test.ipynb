{
 "metadata": {
  "language_info": {
   "codemirror_mode": {
    "name": "ipython",
    "version": 3
   },
   "file_extension": ".py",
   "mimetype": "text/x-python",
   "name": "python",
   "nbconvert_exporter": "python",
   "pygments_lexer": "ipython3",
   "version": "3.8.5"
  },
  "orig_nbformat": 2,
  "kernelspec": {
   "name": "python385jvsc74a57bd073d06570361f974bc57fb1dcd63b25ef1e07fc028463d99442d60ab1ca0ed543",
   "display_name": "Python 3.8.5 64-bit ('base': conda)"
  },
  "metadata": {
   "interpreter": {
    "hash": "73d06570361f974bc57fb1dcd63b25ef1e07fc028463d99442d60ab1ca0ed543"
   }
  }
 },
 "nbformat": 4,
 "nbformat_minor": 2,
 "cells": [
  {
   "cell_type": "code",
   "execution_count": 1,
   "metadata": {},
   "outputs": [],
   "source": [
    "from db import *\n",
    "connection=se_connecter()\n",
    "cursor=connection.cursor()"
   ]
  },
  {
   "source": [
    "dept(ND, nom ,ville)<br>\n",
    "emp(NE, nom, fonction, NEchef, dateEmb, sal, comm, ND)"
   ],
   "cell_type": "markdown",
   "metadata": {}
  },
  {
   "cell_type": "code",
   "execution_count": 2,
   "metadata": {},
   "outputs": [
    {
     "output_type": "stream",
     "name": "stdout",
     "text": [
      "select * from emp where NE=7900\n[(7900, 'SANA', 'SECRITAIRE', 7698, datetime.date(2006, 12, 3), 950.0, None, 30, 30, 'Vente', 'CASABLANCA')]\n"
     ]
    }
   ],
   "source": [
    "dropTables(connection)\n",
    "creationTables(connection)\n",
    "insertionToDept(connection,dataDept)\n",
    "insertIntoEmp(connection,dataEmp)\n",
    "affiche_employe(connection,7900)"
   ]
  },
  {
   "source": [
    "Question1"
   ],
   "cell_type": "markdown",
   "metadata": {}
  },
  {
   "cell_type": "code",
   "execution_count": 4,
   "metadata": {},
   "outputs": [
    {
     "output_type": "stream",
     "name": "stdout",
     "text": [
      "QUESTION 1\n(10, 'Comptabilite', 'RABAT')\n(20, 'Recherche', 'MARRAKECH')\n(30, 'Vente', 'CASABLANCA')\n(40, 'Operations', 'AGADIR')\n"
     ]
    }
   ],
   "source": [
    "print(\"QUESTION 1\")\n",
    "executeRequete(connection,\"select * from dept;\")"
   ]
  },
  {
   "cell_type": "code",
   "execution_count": 12,
   "metadata": {},
   "outputs": [
    {
     "output_type": "stream",
     "name": "stdout",
     "text": [
      "SUESTION 2\n(7369, 'ABDELILAH', 'SECRITAIRE', 7902, datetime.date(2005, 2, 17), 800.0, None, 20)\n(7499, 'KAMAL', 'VENDEUR', 7698, datetime.date(2006, 2, 20), 1600.0, 300.0, 30)\n(7521, 'SOAD', 'VENDEUR', 7698, datetime.date(2006, 2, 22), 1250.0, 500.0, 30)\n(7566, 'ABDELKARIM', 'MANAGER', 7839, datetime.date(2006, 4, 2), 2975.0, None, 20)\n(7654, 'IDRISS', 'VENDEUR', 7698, datetime.date(2006, 9, 28), 1250.0, 1400.0, 30)\n(7698, 'JAOUAD', 'MANAGER', 7839, datetime.date(2006, 5, 1), 2850.0, None, 30)\n(7782, 'MOHAMED', 'MANAGER', 7839, datetime.date(2006, 6, 9), 2450.0, None, 10)\n(7788, 'ABDESSAMAD', 'ANALYSTE', 7566, datetime.date(2007, 9, 12), 3000.0, None, 20)\n(7839, 'YASSINE', 'PRESIDENT', None, datetime.date(2006, 11, 17), 5000.0, None, 10)\n(7844, 'TOURIYA', 'VENDEUR', 7698, datetime.date(2006, 9, 8), 1500.0, 0.0, 30)\n(7876, 'JAMAL', 'SECRITAIRE', 7788, datetime.date(2008, 1, 12), 1100.0, None, 20)\n(7900, 'SANA', 'SECRITAIRE', 7698, datetime.date(2006, 12, 3), 950.0, None, 30)\n(7902, 'MUSTAPHA', 'ANALYSTE', 7566, datetime.date(2006, 3, 12), 3000.0, None, 20)\n"
     ]
    }
   ],
   "source": [
    "print(\"SUESTION 2\")\n",
    "executeRequete(connection,\"select * from emp;\")"
   ]
  },
  {
   "cell_type": "code",
   "execution_count": 13,
   "metadata": {},
   "outputs": [
    {
     "output_type": "stream",
     "name": "stdout",
     "text": [
      "SUESTION 3\n(7839, 'YASSINE', 5000.0)\n(7788, 'ABDESSAMAD', 3000.0)\n(7902, 'MUSTAPHA', 3000.0)\n(7566, 'ABDELKARIM', 2975.0)\n(7698, 'JAOUAD', 2850.0)\n(7782, 'MOHAMED', 2450.0)\n(7499, 'KAMAL', 1600.0)\n(7844, 'TOURIYA', 1500.0)\n(7521, 'SOAD', 1250.0)\n(7654, 'IDRISS', 1250.0)\n(7876, 'JAMAL', 1100.0)\n(7900, 'SANA', 950.0)\n(7369, 'ABDELILAH', 800.0)\n"
     ]
    }
   ],
   "source": [
    "print(\"SUESTION 3\")\n",
    "executeRequete(connection,\"select NE,nom,sal from emp order by sal desc;\")"
   ]
  },
  {
   "cell_type": "code",
   "execution_count": 71,
   "metadata": {},
   "outputs": [
    {
     "output_type": "stream",
     "name": "stdout",
     "text": [
      "SUESTION 4\n(7369, 'ABDELILAH')\n(7566, 'ABDELKARIM')\n(7788, 'ABDESSAMAD')\n(7654, 'IDRISS')\n(7876, 'JAMAL')\n(7698, 'JAOUAD')\n(7499, 'KAMAL')\n(7782, 'MOHAMED')\n(7902, 'MUSTAPHA')\n(7900, 'SANA')\n(7521, 'SOAD')\n(7844, 'TOURIYA')\n(7839, 'YASSINE')\n"
     ]
    }
   ],
   "source": [
    "print(\"SUESTION 4\")\n",
    "executeRequete(connection,\"select NE, emp.nom from emp INNER JOIN dept where dept.ND=30 order by emp.nom \")"
   ]
  },
  {
   "cell_type": "code",
   "execution_count": 4,
   "metadata": {},
   "outputs": [
    {
     "output_type": "stream",
     "name": "stdout",
     "text": [
      "('ND', b'int', 'NO', bytearray(b'PRI'), None, '')\n('nom', b'varchar(20)', 'YES', bytearray(b''), None, '')\n('ville', b'varchar(20)', 'YES', bytearray(b''), None, '')\n"
     ]
    }
   ],
   "source": [
    "executeRequete(connection,\"describe dept\")"
   ]
  },
  {
   "cell_type": "code",
   "execution_count": 4,
   "metadata": {},
   "outputs": [
    {
     "output_type": "stream",
     "name": "stdout",
     "text": [
      "PAS de resultat pour cette requette\n"
     ]
    }
   ],
   "source": [
    "executeRequete(connection,\"\"\" ALTER TABLE dept CHANGE nom name VARCHAR(20)\"\"\")"
   ]
  },
  {
   "cell_type": "code",
   "execution_count": 64,
   "metadata": {},
   "outputs": [
    {
     "output_type": "stream",
     "name": "stdout",
     "text": [
      "SUESTION 4\n(7654, 'IDRISS')\n(7698, 'JAOUAD')\n(7499, 'KAMAL')\n(7900, 'SANA')\n(7521, 'SOAD')\n(7844, 'TOURIYA')\n"
     ]
    }
   ],
   "source": [
    "print(\"SUESTION 4\")\n",
    "executeRequete(connection,\"select NE, nom from emp where ND=30 order by nom \")"
   ]
  },
  {
   "cell_type": "code",
   "execution_count": null,
   "metadata": {},
   "outputs": [],
   "source": [
    "print(\"SUESTION 4\")\n",
    "executeRequete(connection,\"select NE, nom from emp where ND=30 order by nom \")"
   ]
  },
  {
   "cell_type": "code",
   "execution_count": 48,
   "metadata": {},
   "outputs": [
    {
     "output_type": "stream",
     "name": "stdout",
     "text": [
      "SUESTION 5\n('KAMAL', 7499, 'VENDEUR')\n('SOAD', 7521, 'VENDEUR')\n('IDRISS', 7654, 'VENDEUR')\n('YASSINE', 7839, 'PRESIDENT')\n('TOURIYA', 7844, 'VENDEUR')\n('SANA', 7900, 'SECRITAIRE')\n('MUSTAPHA', 7902, 'ANALYSTE')\n"
     ]
    }
   ],
   "source": [
    "print(\"SUESTION 5\")\n",
    "executeRequete(connection,\"\"\"select nom,NE,fonction from emp where fonction <> \"MANAGER\" and dateEmb like \"%2006%\" \"\"\")"
   ]
  },
  {
   "cell_type": "code",
   "execution_count": 54,
   "metadata": {},
   "outputs": [
    {
     "output_type": "stream",
     "name": "stdout",
     "text": [
      "SUESTION 6\n('SECRITAIRE',)\n('VENDEUR',)\n('VENDEUR',)\n('MANAGER',)\n('VENDEUR',)\n('MANAGER',)\n('MANAGER',)\n('ANALYSTE',)\n('PRESIDENT',)\n('VENDEUR',)\n('SECRITAIRE',)\n('SECRITAIRE',)\n('ANALYSTE',)\n"
     ]
    }
   ],
   "source": [
    "print(\"SUESTION 6\")\n",
    "executeRequete(connection,\"\"\"select fonction from emp \"\"\")"
   ]
  },
  {
   "cell_type": "code",
   "execution_count": 6,
   "metadata": {},
   "outputs": [
    {
     "output_type": "stream",
     "name": "stdout",
     "text": [
      "SUESTION 7\n(7566, 'ABDELKARIM')\n(7698, 'JAOUAD')\n"
     ]
    }
   ],
   "source": [
    "print(\"SUESTION 7\")\n",
    "executeRequete(connection,\"\"\"select NE, nom from emp NATURAL JOIN dept where ND in (30,20) and fonction=\"MANAGER\" \"\"\")"
   ]
  },
  {
   "cell_type": "code",
   "execution_count": 7,
   "metadata": {},
   "outputs": [
    {
     "output_type": "stream",
     "name": "stdout",
     "text": [
      "SUESTION 8\n"
     ]
    }
   ],
   "source": [
    "print(\"SUESTION 8\")\n"
   ]
  },
  {
   "cell_type": "code",
   "execution_count": 26,
   "metadata": {},
   "outputs": [
    {
     "output_type": "stream",
     "name": "stdout",
     "text": [
      "QUESTION 9\n(10,)\n"
     ]
    }
   ],
   "source": [
    "print(\"QUESTION 9\")\n",
    "executeRequete(connection,\"\"\" select distinct ND from emp e1 where e1.ND=10\"\"\")"
   ]
  },
  {
   "cell_type": "code",
   "execution_count": 34,
   "metadata": {},
   "outputs": [
    {
     "output_type": "stream",
     "name": "stdout",
     "text": [
      "QUESTION 10\n('ABDELKARIM',)\n('JAOUAD',)\n('ABDESSAMAD',)\n('YASSINE',)\n('MUSTAPHA',)\n"
     ]
    }
   ],
   "source": [
    "print(\"QUESTION 10\")\n",
    "executeRequete(connection,\"\"\" select nom from emp where NE in (select distinct NEchef from emp where NEchef is not NULL)\"\"\")"
   ]
  },
  {
   "cell_type": "code",
   "execution_count": 35,
   "metadata": {},
   "outputs": [
    {
     "output_type": "stream",
     "name": "stdout",
     "text": [
      "QUESTION autre version 10.1\n('ABDELKARIM',)\n('JAOUAD',)\n('ABDESSAMAD',)\n('YASSINE',)\n('MUSTAPHA',)\n"
     ]
    }
   ],
   "source": [
    "print(\"QUESTION autre version 10.1\")\n",
    "executeRequete(connection,\"\"\" select distinct e1.nom from emp e1 inner join emp e2 on e1.NE=e2.NEchef \"\"\")"
   ]
  },
  {
   "cell_type": "code",
   "execution_count": 59,
   "metadata": {},
   "outputs": [
    {
     "output_type": "stream",
     "name": "stdout",
     "text": [
      "QUESTION autre version 10.2\n('ABDELKARIM',)\n('JAOUAD',)\n('ABDESSAMAD',)\n('YASSINE',)\n('MUSTAPHA',)\n"
     ]
    }
   ],
   "source": [
    "print(\"QUESTION autre version 10.2\")\n",
    "executeRequete(connection,\"\"\" with chefs as (select distinct NEchef as chef from emp where NEchef is not NULL ) select nom from emp,chefs where emp.NE=chefs.chef\"\"\")"
   ]
  },
  {
   "cell_type": "code",
   "execution_count": 60,
   "metadata": {},
   "outputs": [
    {
     "output_type": "stream",
     "name": "stdout",
     "text": [
      "QUESTION autre version 10.3\n('ABDELKARIM',)\n('JAOUAD',)\n('ABDESSAMAD',)\n('YASSINE',)\n('MUSTAPHA',)\n"
     ]
    }
   ],
   "source": [
    "print(\"QUESTION autre version 10.3\")\n",
    "executeRequete(connection,\"\"\" with chefs as (select distinct NEchef as chef from emp where NEchef is not NULL ) select nom from emp INNER JOIN chefs on emp.NE=chefs.chef\"\"\")"
   ]
  },
  {
   "cell_type": "code",
   "execution_count": 10,
   "metadata": {},
   "outputs": [
    {
     "output_type": "stream",
     "name": "stdout",
     "text": [
      "QUESTION autre 10.3: \n('ABDELKARIM',)\n('JAOUAD',)\n('ABDESSAMAD',)\n('YASSINE',)\n('MUSTAPHA',)\n"
     ]
    }
   ],
   "source": [
    "print(\"QUESTION autre 10.3: \")\n",
    "executeRequete(connection,\"\"\" with chefs as (select distinct NEchef as chef from emp where NEchef is not NULL ) select nom from emp INNER JOIN chefs on emp.NE=chefs.chef\"\"\")"
   ]
  },
  {
   "cell_type": "code",
   "execution_count": 22,
   "metadata": {},
   "outputs": [
    {
     "output_type": "stream",
     "name": "stdout",
     "text": [
      "QUESTION 12\n('KAMAL', 1600.0, 300.0, 1900.0, 'VENDEUR')\n('SOAD', 1250.0, 500.0, 1750.0, 'VENDEUR')\n('IDRISS', 1250.0, 1400.0, 2650.0, 'VENDEUR')\n('TOURIYA', 1500.0, 0.0, 1500.0, 'VENDEUR')\n('ABDELILAH', 800.0, None, 800.0, 'SECRITAIRE')\n('ABDELKARIM', 2975.0, None, 2975.0, 'MANAGER')\n('JAOUAD', 2850.0, None, 2850.0, 'MANAGER')\n('MOHAMED', 2450.0, None, 2450.0, 'MANAGER')\n('ABDESSAMAD', 3000.0, None, 3000.0, 'ANALYSTE')\n('YASSINE', 5000.0, None, 5000.0, 'PRESIDENT')\n('JAMAL', 1100.0, None, 1100.0, 'SECRITAIRE')\n('SANA', 950.0, None, 950.0, 'SECRITAIRE')\n('MUSTAPHA', 3000.0, None, 3000.0, 'ANALYSTE')\n"
     ]
    }
   ],
   "source": [
    "print(\"QUESTION 12\")\n",
    "executeRequete(connection,\"\"\"\n",
    " select nom,sal,comm,sal+comm,fonction from emp where comm is not NULL\n",
    "UNION\n",
    "select nom,sal,comm,sal+0,fonction from emp where comm is NULL\n",
    "\"\"\")"
   ]
  },
  {
   "source": [
    "Une "
   ],
   "cell_type": "markdown",
   "metadata": {}
  },
  {
   "cell_type": "code",
   "execution_count": 21,
   "metadata": {},
   "outputs": [
    {
     "output_type": "stream",
     "name": "stdout",
     "text": [
      "QUESTION 13\n(13,)\n"
     ]
    }
   ],
   "source": [
    "print(\"QUESTION 13\")\n",
    "executeRequete(connection,\"\"\" select count(1) from  emp\"\"\")"
   ]
  },
  {
   "cell_type": "code",
   "execution_count": 37,
   "metadata": {},
   "outputs": [
    {
     "output_type": "stream",
     "name": "stdout",
     "text": [
      "QUESTION 13\n(4,)\n"
     ]
    }
   ],
   "source": [
    "print(\"QUESTION 13\")\n",
    "executeRequete(connection,\"\"\" select count(1) from  emp where fonction=\"VENDEUR\" \"\"\")"
   ]
  },
  {
   "cell_type": "code",
   "execution_count": 59,
   "metadata": {},
   "outputs": [
    {
     "output_type": "stream",
     "name": "stdout",
     "text": [
      "QUESTION 15\n(5,)\n"
     ]
    }
   ],
   "source": [
    "print(\"QUESTION 15\")\n",
    "executeRequete(connection,\"\"\"with jobs as  (select distinct fonction from emp) select count(0) from jobs \"\"\")"
   ]
  },
  {
   "cell_type": "code",
   "execution_count": 64,
   "metadata": {},
   "outputs": [
    {
     "output_type": "stream",
     "name": "stdout",
     "text": [
      "QUESTION 15\n(Decimal('5'),)\n"
     ]
    }
   ],
   "source": [
    "print(\"QUESTION 15\")\n",
    "executeRequete(connection,\"\"\"with rr as (select distinct fonction from emp) select sum(1) from rr\"\"\")"
   ]
  },
  {
   "cell_type": "code",
   "execution_count": 65,
   "metadata": {},
   "outputs": [
    {
     "output_type": "stream",
     "name": "stdout",
     "text": [
      "QUESTION 16\n(800.0, 5000.0)\n"
     ]
    }
   ],
   "source": [
    "print(\"QUESTION 16\")\n",
    "executeRequete(connection,\"\"\" select min(sal) as minsal,max(sal) as maxsal from emp\"\"\")"
   ]
  },
  {
   "cell_type": "code",
   "execution_count": 77,
   "metadata": {},
   "outputs": [
    {
     "output_type": "stream",
     "name": "stdout",
     "text": [
      "QUESTION 17\n('SECRITAIRE', 3)\n('VENDEUR', 4)\n('MANAGER', 3)\n('ANALYSTE', 2)\n('PRESIDENT', 1)\n"
     ]
    }
   ],
   "source": [
    "print(\"QUESTION 17\")\n",
    "executeRequete(connection,\"\"\"select fonction,count(*) from emp group by fonction \"\"\")"
   ]
  },
  {
   "cell_type": "code",
   "execution_count": 78,
   "metadata": {},
   "outputs": [
    {
     "output_type": "stream",
     "name": "stdout",
     "text": [
      "QUESTION 18\n(1400.0,)\n"
     ]
    }
   ],
   "source": [
    "print(\"QUESTION 18\")\n",
    "executeRequete(connection,\"\"\"select avg(sal) from emp where fonction=\"VENDEUR\" \"\"\")"
   ]
  },
  {
   "cell_type": "code",
   "execution_count": 80,
   "metadata": {},
   "outputs": [
    {
     "output_type": "stream",
     "name": "stdout",
     "text": [
      "19. Salaires max dans chaque département (par numéro de département)\n(10, 5000.0)\n(20, 3000.0)\n(30, 2850.0)\n"
     ]
    }
   ],
   "source": [
    "print(\"19. Salaires max dans chaque département (par numéro de département)\")\n",
    "executeRequete(connection,\"\"\"select ND,max(sal) from emp group by ND\"\"\")"
   ]
  },
  {
   "cell_type": "code",
   "execution_count": 96,
   "metadata": {},
   "outputs": [
    {
     "output_type": "stream",
     "name": "stdout",
     "text": [
      "20. Pourcentage moyen de la commission des vendeurs par rapport à leur salaire\n(42.6875,)\n"
     ]
    }
   ],
   "source": [
    "print(\"20. Pourcentage moyen de la commission des vendeurs par rapport à leur salaire\")\n",
    "executeRequete(connection,\"\"\" select avg(100*(comm/sal)) from emp where fonction=\"VENDEUR\" \"\"\")"
   ]
  },
  {
   "cell_type": "code",
   "execution_count": 156,
   "metadata": {},
   "outputs": [
    {
     "output_type": "stream",
     "name": "stdout",
     "text": [
      "21. Quels sont les départements dans lesquels travaillent plus de 3 personnes et quel est le salaire moyendans ces départements\n(20, 2175.0)\n(30, 1566.6666666666667)\n"
     ]
    }
   ],
   "source": [
    "print(\"21. Quels sont les départements dans lesquels travaillent plus de 3 personnes et quel est le salaire moyendans ces départements\")\n",
    "executeRequete(connection,\"\"\" with dbt as (with nbEmpByDept as (select ND,count(1) as nbEmployes from emp group by ND ) select ND as NND from  nbEmpByDept where nbEmployes >2) select emp.ND,avg(sal) from dbt,emp where dbt.NND=emp.ND group by emp.ND \"\"\")"
   ]
  },
  {
   "cell_type": "code",
   "execution_count": 165,
   "metadata": {},
   "outputs": [
    {
     "output_type": "stream",
     "name": "stdout",
     "text": [
      "21. Quels sont les départements dans lesquels travaillent plus de 3 personnes et quel est le salaire moyendans ces départements\n(20, 2175.0)\n(30, 1566.6666666666667)\n"
     ]
    }
   ],
   "source": [
    "print(\"21. Quels sont les départements dans lesquels travaillent plus de 3 personnes et quel est le salaire moyendans ces départements\")\n",
    "executeRequete(connection,\"\"\" select ND,avg(sal) as nbEmployes from emp group by ND having count(1)>2 \"\"\")"
   ]
  },
  {
   "cell_type": "code",
   "execution_count": 189,
   "metadata": {},
   "outputs": [
    {
     "output_type": "stream",
     "name": "stdout",
     "text": [
      "22. Nombre d’employés par département et profession avec le salaire moyen, min et max\n(10, 'MANAGER', 1)\n(10, 'PRESIDENT', 1)\n(20, 'ANALYSTE', 2)\n(20, 'MANAGER', 1)\n(20, 'SECRITAIRE', 2)\n(30, 'MANAGER', 1)\n(30, 'SECRITAIRE', 1)\n(30, 'VENDEUR', 4)\n"
     ]
    }
   ],
   "source": [
    "print(\"22. Nombre d’employés par département et profession avec le salaire moyen, min et max\")\n",
    "executeRequete(connection,\"\"\" select ND,fonction,count(*) as nbEmpl from emp as e group by ND,fonction order by ND,fonction \"\"\")"
   ]
  },
  {
   "cell_type": "code",
   "execution_count": 198,
   "metadata": {},
   "outputs": [
    {
     "output_type": "stream",
     "name": "stdout",
     "text": [
      "23. Noms des départements dans lesquels le salaire moyen dépasse 2000\n(10, 7782, 'MOHAMED', 'MANAGER', 7839, datetime.date(2006, 6, 9), 2450.0, None, 'Comptabilite', 'RABAT')\n(10, 7839, 'YASSINE', 'PRESIDENT', None, datetime.date(2006, 11, 17), 5000.0, None, 'Comptabilite', 'RABAT')\n(20, 7369, 'ABDELILAH', 'SECRITAIRE', 7902, datetime.date(2005, 2, 17), 800.0, None, 'Recherche', 'MARRAKECH')\n(20, 7566, 'ABDELKARIM', 'MANAGER', 7839, datetime.date(2006, 4, 2), 2975.0, None, 'Recherche', 'MARRAKECH')\n(20, 7788, 'ABDESSAMAD', 'ANALYSTE', 7566, datetime.date(2007, 9, 12), 3000.0, None, 'Recherche', 'MARRAKECH')\n(20, 7876, 'JAMAL', 'SECRITAIRE', 7788, datetime.date(2008, 1, 12), 1100.0, None, 'Recherche', 'MARRAKECH')\n(20, 7902, 'MUSTAPHA', 'ANALYSTE', 7566, datetime.date(2006, 3, 12), 3000.0, None, 'Recherche', 'MARRAKECH')\n(30, 7499, 'KAMAL', 'VENDEUR', 7698, datetime.date(2006, 2, 20), 1600.0, 300.0, 'Vente', 'CASABLANCA')\n(30, 7521, 'SOAD', 'VENDEUR', 7698, datetime.date(2006, 2, 22), 1250.0, 500.0, 'Vente', 'CASABLANCA')\n(30, 7654, 'IDRISS', 'VENDEUR', 7698, datetime.date(2006, 9, 28), 1250.0, 1400.0, 'Vente', 'CASABLANCA')\n(30, 7698, 'JAOUAD', 'MANAGER', 7839, datetime.date(2006, 5, 1), 2850.0, None, 'Vente', 'CASABLANCA')\n(30, 7844, 'TOURIYA', 'VENDEUR', 7698, datetime.date(2006, 9, 8), 1500.0, 0.0, 'Vente', 'CASABLANCA')\n(30, 7900, 'SANA', 'SECRITAIRE', 7698, datetime.date(2006, 12, 3), 950.0, None, 'Vente', 'CASABLANCA')\n"
     ]
    }
   ],
   "source": [
    "print(\"23. Noms des départements dans lesquels le salaire moyen dépasse 2000\")\n",
    "executeRequete(connection,\"\"\" select * from emp inner join on (emp.ND=) \"\"\")"
   ]
  },
  {
   "cell_type": "code",
   "execution_count": null,
   "metadata": {},
   "outputs": [],
   "source": []
  },
  {
   "source": [
    "dept(ND, nom ,ville)<br>\n",
    "emp(NE, nom, fonction, NEchef, dateEmb, sal, comm, ND)"
   ],
   "cell_type": "markdown",
   "metadata": {}
  },
  {
   "source": [
    "\n",
    "24. Tous les employés travaillant à MARRAKECH\n",
    "25. Tous les noms et dates d’embauche des employés embauchés avant leur supérieur hiérarchique avec le nom\n",
    "et la date d’embauche de leurs managers\n",
    "26. Tous les employés ne travaillant pas dans le même département que leur supérieur hiérarchique\n",
    "27. Tous les employés qui gagnent plus que la moyenne.\n",
    "28. Quel est le salaire moyen par département le plus élevé?\n",
    "29. Tous les employés embauchés la même année que Yassine.\n",
    "30. Tous les employés ayant le même manager que Touriya.\n",
    "31. Liste des employés travaillant à RABAT et ayant le même job qu’ABDELKARIM.\n",
    "32. Tous les employés du département Recherche embauchés le même jour que quelqu’un du département Vente\n",
    ".\n",
    "33. Tous les employés qui n’ont pas de subordonnés .\n",
    "34. Tous les employés avec leur supérieur hiérarchique (et sa fonction), et leur département (avec le nom et la\n",
    "ville), en affichant aussi les employés qui n’ont pas de supérieur hiérarchique."
   ],
   "cell_type": "markdown",
   "metadata": {}
  },
  {
   "cell_type": "code",
   "execution_count": 15,
   "metadata": {},
   "outputs": [],
   "source": [
    "connection.commit()\n",
    "connection.close()"
   ]
  }
 ]
}