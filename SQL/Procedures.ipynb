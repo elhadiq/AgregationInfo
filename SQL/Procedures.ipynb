{
 "metadata": {
  "language_info": {
   "codemirror_mode": {
    "name": "ipython",
    "version": 3
   },
   "file_extension": ".py",
   "mimetype": "text/x-python",
   "name": "python",
   "nbconvert_exporter": "python",
   "pygments_lexer": "ipython3",
   "version": "3.8.5"
  },
  "orig_nbformat": 4,
  "kernelspec": {
   "name": "python3",
   "display_name": "Python 3.8.5 64-bit ('base': conda)"
  },
  "interpreter": {
   "hash": "73d06570361f974bc57fb1dcd63b25ef1e07fc028463d99442d60ab1ca0ed543"
  }
 },
 "nbformat": 4,
 "nbformat_minor": 2,
 "cells": [
  {
   "cell_type": "code",
   "execution_count": 1,
   "metadata": {},
   "outputs": [],
   "source": [
    "from db import *\n",
    "connection=se_connecter()\n",
    "cursor=connection.cursor()\n",
    "cursor.execute(\"use TP_SQL\")"
   ]
  },
  {
   "cell_type": "code",
   "execution_count": 2,
   "metadata": {},
   "outputs": [
    {
     "output_type": "stream",
     "name": "stdout",
     "text": [
      "\n*******Drop function\nPAS de resultat pour cette requette\n*******Creation function\nPAS de resultat pour cette requette\n**********Utilisation d'une fonction\n(1,)\n"
     ]
    }
   ],
   "source": [
    "print(\"\")\n",
    "executeRequete(connection,\"\"\"DROP FUNCTION IF EXISTS paire\"\"\",'*******Drop function')\n",
    "executeRequete(connection,\"\"\"\n",
    "CREATE FUNCTION paire(n INT)\n",
    "    RETURNS INT DETERMINISTIC\n",
    "BEGIN\n",
    "    DECLARE bb INT;\n",
    "    SET bb= (n%2);\n",
    "    RETURN bb;\n",
    "END;\n",
    "\"\"\",\"*******Creation function\")\n",
    "executeRequete(connection,\"\"\" select paire(3)\"\"\",\"**********Utilisation d'une fonction\")"
   ]
  },
  {
   "cell_type": "code",
   "execution_count": 3,
   "metadata": {},
   "outputs": [
    {
     "output_type": "stream",
     "name": "stdout",
     "text": [
      "\nPAS de resultat pour cette requette\n\nPAS de resultat pour cette requette\n\n(2,)\n"
     ]
    }
   ],
   "source": [
    "executeRequete(connection,\"\"\"DROP FUNCTION IF EXISTS dept_count\"\"\")\n",
    "executeRequete(connection,\"\"\"\n",
    "create function dept_count ( nd_dept int )\n",
    "returns integer  READS SQL DATA \n",
    "begin \n",
    "    declare d_count integer;\n",
    "    select count(*) into d_count from emp where emp.ND = nd_dept;\n",
    "    return d_count ;\n",
    "end;\n",
    "\"\"\")\n",
    "executeRequete(connection,\"\"\"select dept_count(10); \"\"\")"
   ]
  },
  {
   "cell_type": "code",
   "execution_count": 4,
   "metadata": {},
   "outputs": [
    {
     "output_type": "stream",
     "name": "stdout",
     "text": [
      "Utilisation de cette fonction dans une requete\n\n(20, 'Recherche')\n(30, 'Vente')\n"
     ]
    }
   ],
   "source": [
    "print(\"Utilisation de cette fonction dans une requete\")\n",
    "executeRequete(connection,\"\"\" select ND,nom from dept where dept_count(ND)>3\"\"\")"
   ]
  },
  {
   "cell_type": "code",
   "execution_count": null,
   "metadata": {},
   "outputs": [],
   "source": [
    "executeRequete(connection,\"\"\"DROP PROCEDURE IF EXISTS dept_count_proc\"\"\",'********drop procedure')\n",
    "executeRequete(connection,\"\"\"\n",
    "create PROCEDURE dept_count_proc ( in nd_dept int, out d_count integer )\n",
    "begin \n",
    "    select count(*) into d_count from emp where emp.ND = nd_dept;\n",
    "end;\n",
    "\"\"\",\"******def procedure\")\n",
    "executeRequete(connection,\"\"\"declare dd integer;\n",
    "\"\"\",\"*******Request ok\")"
   ]
  },
  {
   "cell_type": "code",
   "execution_count": null,
   "metadata": {},
   "outputs": [],
   "source": []
  },
  {
   "cell_type": "code",
   "execution_count": null,
   "metadata": {},
   "outputs": [],
   "source": []
  },
  {
   "cell_type": "code",
   "execution_count": 28,
   "metadata": {},
   "outputs": [],
   "source": [
    "connection.commit()\n",
    "connection.close()"
   ]
  },
  {
   "cell_type": "code",
   "execution_count": null,
   "metadata": {},
   "outputs": [],
   "source": []
  }
 ]
}