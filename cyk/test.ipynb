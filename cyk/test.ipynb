{
 "metadata": {
  "language_info": {
   "codemirror_mode": {
    "name": "ipython",
    "version": 3
   },
   "file_extension": ".py",
   "mimetype": "text/x-python",
   "name": "python",
   "nbconvert_exporter": "python",
   "pygments_lexer": "ipython3",
   "version": "3.8.5"
  },
  "orig_nbformat": 2,
  "kernelspec": {
   "name": "python385jvsc74a57bd073d06570361f974bc57fb1dcd63b25ef1e07fc028463d99442d60ab1ca0ed543",
   "display_name": "Python 3.8.5 64-bit ('base': conda)"
  },
  "metadata": {
   "interpreter": {
    "hash": "73d06570361f974bc57fb1dcd63b25ef1e07fc028463d99442d60ab1ca0ed543"
   }
  }
 },
 "nbformat": 4,
 "nbformat_minor": 2,
 "cells": [
  {
   "cell_type": "code",
   "execution_count": 73,
   "metadata": {},
   "outputs": [],
   "source": [
    "P={\n",
    "    \"S\":{\"abX\",\"aSb\"},\n",
    "    \"X\":{\"aXb\",\"ab\",\"\"},\n",
    "    \"C\":{\"D\"}\n",
    "}"
   ]
  },
  {
   "cell_type": "code",
   "execution_count": 74,
   "metadata": {},
   "outputs": [],
   "source": [
    "V={\"S\",\"X\",\"C\",\"D\"}"
   ]
  },
  {
   "cell_type": "code",
   "execution_count": 3,
   "metadata": {},
   "outputs": [
    {
     "output_type": "execute_result",
     "data": {
      "text/plain": [
       "['absO', 'absR']"
      ]
     },
     "metadata": {},
     "execution_count": 3
    }
   ],
   "source": [
    "[\"absRO\".replace(V,\"\") for V in \"RO\"]"
   ]
  },
  {
   "cell_type": "code",
   "execution_count": 5,
   "metadata": {},
   "outputs": [
    {
     "output_type": "stream",
     "text": [
      "\u001b[0;31mSignature:\u001b[0m  \u001b[0mstr\u001b[0m\u001b[0;34m.\u001b[0m\u001b[0mtranslate\u001b[0m\u001b[0;34m(\u001b[0m\u001b[0mself\u001b[0m\u001b[0;34m,\u001b[0m \u001b[0mtable\u001b[0m\u001b[0;34m,\u001b[0m \u001b[0;34m/\u001b[0m\u001b[0;34m)\u001b[0m\u001b[0;34m\u001b[0m\u001b[0;34m\u001b[0m\u001b[0m\n",
      "\u001b[0;31mDocstring:\u001b[0m\n",
      "Replace each character in the string using the given translation table.\n",
      "\n",
      "  table\n",
      "    Translation table, which must be a mapping of Unicode ordinals to\n",
      "    Unicode ordinals, strings, or None.\n",
      "\n",
      "The table must implement lookup/indexing via __getitem__, for instance a\n",
      "dictionary or list.  If this operation raises LookupError, the character is\n",
      "left untouched.  Characters mapped to None are deleted.\n",
      "\u001b[0;31mType:\u001b[0m      method_descriptor\n"
     ],
     "name": "stdout"
    }
   ],
   "source": [
    "?? str.translate"
   ]
  },
  {
   "cell_type": "code",
   "execution_count": 11,
   "metadata": {},
   "outputs": [
    {
     "output_type": "execute_result",
     "data": {
      "text/plain": [
       "'bs'"
      ]
     },
     "metadata": {},
     "execution_count": 11
    }
   ],
   "source": [
    "t={97:None}\n",
    "a=\"abs\"\n",
    "a.translate(t)"
   ]
  },
  {
   "cell_type": "code",
   "execution_count": 12,
   "metadata": {},
   "outputs": [
    {
     "output_type": "execute_result",
     "data": {
      "text/plain": [
       "'abs'"
      ]
     },
     "metadata": {},
     "execution_count": 12
    }
   ],
   "source": [
    "a"
   ]
  },
  {
   "cell_type": "code",
   "execution_count": null,
   "metadata": {},
   "outputs": [],
   "source": []
  }
 ]
}